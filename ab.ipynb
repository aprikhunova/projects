{
 "cells": [
  {
   "cell_type": "markdown",
   "id": "1ca1c6fd-fc38-4a29-9659-bb8302f2870f",
   "metadata": {},
   "source": [
    "### Импорт библиотек"
   ]
  },
  {
   "cell_type": "code",
   "execution_count": 1,
   "id": "a0c33514-18e8-42fa-9ab4-d2a07e545da6",
   "metadata": {},
   "outputs": [],
   "source": [
    "import pandas as pd\n",
    "from scipy import stats as st\n",
    "import numpy as np\n",
    "import math as mth"
   ]
  },
  {
   "cell_type": "markdown",
   "id": "7a462537-2e2a-4178-b98e-523af68a5e91",
   "metadata": {},
   "source": [
    "### Получение данных"
   ]
  },
  {
   "cell_type": "code",
   "execution_count": 85,
   "id": "b69d4856-b294-49da-ab18-4ed79b2073f9",
   "metadata": {},
   "outputs": [],
   "source": [
    "df_ab = pd.read_csv('desktop/rutube_ab.csv', sep=';')"
   ]
  },
  {
   "cell_type": "code",
   "execution_count": 113,
   "id": "d45e8a19-5328-4288-9b34-5dc087be9c93",
   "metadata": {},
   "outputs": [],
   "source": [
    "df = df_ab.groupby('test_group', as_index=False).agg({'shown':'sum', 'clicked':'sum'})\n",
    "\n",
    "shown = df['shown'].to_numpy()\n",
    "\n",
    "clicked = df['clicked'].to_numpy()"
   ]
  },
  {
   "cell_type": "code",
   "execution_count": 111,
   "id": "1e2fb0dd-542a-4d6a-a31f-a4a05e124ea2",
   "metadata": {},
   "outputs": [
    {
     "data": {
      "text/html": [
       "<div>\n",
       "<style scoped>\n",
       "    .dataframe tbody tr th:only-of-type {\n",
       "        vertical-align: middle;\n",
       "    }\n",
       "\n",
       "    .dataframe tbody tr th {\n",
       "        vertical-align: top;\n",
       "    }\n",
       "\n",
       "    .dataframe thead th {\n",
       "        text-align: right;\n",
       "    }\n",
       "</style>\n",
       "<table border=\"1\" class=\"dataframe\">\n",
       "  <thead>\n",
       "    <tr style=\"text-align: right;\">\n",
       "      <th></th>\n",
       "      <th>test_group</th>\n",
       "      <th>shown</th>\n",
       "      <th>clicked</th>\n",
       "    </tr>\n",
       "  </thead>\n",
       "  <tbody>\n",
       "    <tr>\n",
       "      <th>0</th>\n",
       "      <td>base</td>\n",
       "      <td>7458540</td>\n",
       "      <td>986765</td>\n",
       "    </tr>\n",
       "    <tr>\n",
       "      <th>1</th>\n",
       "      <td>pilot</td>\n",
       "      <td>5576584</td>\n",
       "      <td>790712</td>\n",
       "    </tr>\n",
       "  </tbody>\n",
       "</table>\n",
       "</div>"
      ],
      "text/plain": [
       "  test_group    shown  clicked\n",
       "0       base  7458540   986765\n",
       "1      pilot  5576584   790712"
      ]
     },
     "execution_count": 111,
     "metadata": {},
     "output_type": "execute_result"
    }
   ],
   "source": [
    "df"
   ]
  },
  {
   "cell_type": "markdown",
   "id": "9112f4b9-061b-41d9-a0c5-0b9b4509ba78",
   "metadata": {},
   "source": [
    "### Проверка статической значимости разности конверсии"
   ]
  },
  {
   "cell_type": "markdown",
   "id": "b6c2ad4f-e7e3-438c-82c5-3470f1d8bf1d",
   "metadata": {},
   "source": [
    "- Нулевая гипотеза: конверсии групп равны\n",
    "- Альтернативная гипотеза: конверсии групп отличаются"
   ]
  },
  {
   "cell_type": "code",
   "execution_count": 114,
   "id": "af37b770-0c17-41a6-8af0-72aa1f202f79",
   "metadata": {},
   "outputs": [
    {
     "name": "stdout",
     "output_type": "stream",
     "text": [
      "p-значение:  0.0\n",
      "Отвергаем нулевую гипотезу: между конверсиями есть значимая разница\n",
      "0.07174179589331753\n"
     ]
    }
   ],
   "source": [
    "p1 = clicked[0]/shown[0]\n",
    "p2 = clicked[1]/shown[1]\n",
    "p_combined = (clicked[0] + clicked[1])/(shown[0] + shown[1])\n",
    "\n",
    "diffrence = p1 - p2\n",
    "\n",
    "z_value = diffrence/np.sqrt(p_combined * (1 - p_combined) * (1/shown[0] + 1/shown[1]))\n",
    "\n",
    "distr = st.norm(0, 1)\n",
    "\n",
    "p_value = (1 - distr.cdf(abs(z_value))) * 2\n",
    "\n",
    "alpha = 0.05\n",
    "\n",
    "print('p-значение: ', p_value)\n",
    "\n",
    "if p_value < alpha:\n",
    "    print('Отвергаем нулевую гипотезу: между конверсиями есть значимая разница')\n",
    "else:\n",
    "    print('Не получилось отвергнуть нулевую гипотезу, нет оснований считать конверсии разными')\n",
    "    \n",
    "print(p2/p1 -1)"
   ]
  },
  {
   "cell_type": "markdown",
   "id": "18eb8cb0-022f-44de-93ea-dbdde6a29825",
   "metadata": {},
   "source": [
    "### Проверка статической значимости разности конверсий по типам устройств"
   ]
  },
  {
   "cell_type": "code",
   "execution_count": 115,
   "id": "7d2d1852-25a2-4b54-8916-b85b6d1aa441",
   "metadata": {},
   "outputs": [],
   "source": [
    "def ab(data, name):\n",
    "    df = data[data['device']== name].groupby('test_group', as_index=False).agg({'shown':'sum', 'clicked':'sum'})\n",
    "    shown = df['shown'].to_numpy()\n",
    "    clicked = df['clicked'].to_numpy()\n",
    "    p1 = clicked[0]/shown[0]\n",
    "    p2 = clicked[1]/shown[1]\n",
    "    p_combined = (clicked[0] + clicked[1])/(shown[0] + shown[1])\n",
    "    diffrence = p1 - p2\n",
    "    z_value = diffrence/np.sqrt(p_combined * (1 - p_combined) * (1/shown[0] + 1/shown[1]))\n",
    "    distr = st.norm(0, 1)\n",
    "    p_value = (1 - distr.cdf(abs(z_value))) * 2\n",
    "    alpha = 0.05\n",
    "    print('p-значение: ', p_value)\n",
    "    if p_value < alpha:\n",
    "        print('Отвергаем нулевую гипотезу: между конверсиями есть значимая разница')\n",
    "    else:\n",
    "        print('Не получилось отвергнуть нулевую гипотезу, нет оснований считать конверсии разными')\n",
    "    print(p2/p1 -1)"
   ]
  },
  {
   "cell_type": "code",
   "execution_count": 116,
   "id": "22b06142-de18-4f03-a9ae-03455c128625",
   "metadata": {},
   "outputs": [
    {
     "name": "stdout",
     "output_type": "stream",
     "text": [
      "Desktop\n",
      "p-значение:  0.0\n",
      "Отвергаем нулевую гипотезу: между конверсиями есть значимая разница\n",
      "0.13639581830790148\n",
      "\n",
      "Tablet\n",
      "p-значение:  5.912603739943734e-12\n",
      "Отвергаем нулевую гипотезу: между конверсиями есть значимая разница\n",
      "0.05235890070874838\n",
      "\n",
      "Smart TV\n",
      "p-значение:  0.0\n",
      "Отвергаем нулевую гипотезу: между конверсиями есть значимая разница\n",
      "0.2043804568158596\n",
      "\n",
      "Smartphone\n",
      "p-значение:  0.0\n",
      "Отвергаем нулевую гипотезу: между конверсиями есть значимая разница\n",
      "-0.04681868555454172\n",
      "\n"
     ]
    }
   ],
   "source": [
    "for i in df_ab['device'].drop_duplicates():\n",
    "    print(i)\n",
    "    ab(df_ab, i)\n",
    "    print()"
   ]
  },
  {
   "cell_type": "markdown",
   "id": "292e6053-4d42-44bc-977e-044060ec3858",
   "metadata": {},
   "source": [
    "### Вывод: \n",
    "- разница между конверсиями групп статически значима\n",
    "- конверсия группы 'pilot' выше конверсии группы 'base', на всех устройствах кроме Смартфонов.\n",
    "\n"
   ]
  }
 ],
 "metadata": {
  "kernelspec": {
   "display_name": "Python 3 (ipykernel)",
   "language": "python",
   "name": "python3"
  },
  "language_info": {
   "codemirror_mode": {
    "name": "ipython",
    "version": 3
   },
   "file_extension": ".py",
   "mimetype": "text/x-python",
   "name": "python",
   "nbconvert_exporter": "python",
   "pygments_lexer": "ipython3",
   "version": "3.9.13"
  }
 },
 "nbformat": 4,
 "nbformat_minor": 5
}
